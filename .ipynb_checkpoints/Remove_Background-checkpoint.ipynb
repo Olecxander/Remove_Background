{
 "cells": [
  {
   "cell_type": "code",
   "execution_count": null,
   "id": "d54aab9c-d8e9-4b7e-ba05-56490e05f155",
   "metadata": {},
   "outputs": [],
   "source": [
    "# pip install rembg\n"
   ]
  },
  {
   "cell_type": "code",
   "execution_count": 8,
   "id": "b1e46fef-1b86-4604-ba77-6ed315c3bf92",
   "metadata": {},
   "outputs": [],
   "source": [
    "from rembg import remove\n",
    "from PIL import Image\n",
    "import requests\n",
    "from io import BytesIO\n",
    "import os"
   ]
  },
  {
   "cell_type": "code",
   "execution_count": 11,
   "id": "73d36bb8-4956-41ae-adb6-09699359404b",
   "metadata": {},
   "outputs": [],
   "source": [
    "def change_background_color(image, new_background_color=(144, 238, 144)):\n",
    "    new_background = Image.new('RGB', image.size, new_background_color)\n",
    "    removed_background = remove(image)\n",
    "    result = Image.alpha_composite(new_background.convert('RGBA'), removed_background.convert('RGBA'))\n",
    "    return result"
   ]
  },
  {
   "cell_type": "code",
   "execution_count": 12,
   "id": "c55daf5e-ce29-4641-94a1-926cb02f02db",
   "metadata": {},
   "outputs": [],
   "source": [
    "input_url = 'https://imgs.search.brave.com/5IQAfRk7dnvUkP8ruVdZQrH_ayQM3io4f11J2MXEZ70/rs:fit:860:0:0/g:ce/aHR0cHM6Ly9pbWFn/ZXMudW5zcGxhc2gu/Y29tL3Bob3RvLTE2/MDM0MDIyNDM4NDEt/NmNiN2E2MWQ3MGVk/P3E9ODAmdz0xMDAw/JmF1dG89Zm9ybWF0/JmZpdD1jcm9wJml4/bGliPXJiLTQuMC4z/Jml4aWQ9TTN3eE1q/QTNmREI4TUh4elpX/RnlZMmg4Tm54OGJX/RndiR1VsTWpCc1pX/Rm1mR1Z1ZkRCOGZE/QjhmSHd3'\n",
    "output_path = 'output.jpg'"
   ]
  },
  {
   "cell_type": "code",
   "execution_count": 13,
   "id": "0730645f-ea63-442b-8cc6-43a217f5edc8",
   "metadata": {},
   "outputs": [],
   "source": [
    "response = requests.get(input_url)\n",
    "image_data = BytesIO(response.content)\n",
    "image_input = Image.open(image_data)"
   ]
  },
  {
   "cell_type": "code",
   "execution_count": 14,
   "id": "d8d83549-4329-4ec1-a6cc-67da37ef4e69",
   "metadata": {},
   "outputs": [],
   "source": [
    "output = change_background_color(image_input, new_background_color=(144, 238, 144))\n",
    "output = output.convert('RGB')\n",
    "output.save(output_path)"
   ]
  },
  {
   "cell_type": "code",
   "execution_count": null,
   "id": "c2808406-a770-4fdd-a28b-cc0e71590b1a",
   "metadata": {},
   "outputs": [],
   "source": []
  }
 ],
 "metadata": {
  "kernelspec": {
   "display_name": "Python 3 (ipykernel)",
   "language": "python",
   "name": "python3"
  },
  "language_info": {
   "codemirror_mode": {
    "name": "ipython",
    "version": 3
   },
   "file_extension": ".py",
   "mimetype": "text/x-python",
   "name": "python",
   "nbconvert_exporter": "python",
   "pygments_lexer": "ipython3",
   "version": "3.9.13"
  }
 },
 "nbformat": 4,
 "nbformat_minor": 5
}
